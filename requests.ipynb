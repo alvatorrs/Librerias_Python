{
 "cells": [
  {
   "cell_type": "markdown",
   "metadata": {},
   "source": [
    "# Requests"
   ]
  },
  {
   "cell_type": "markdown",
   "metadata": {},
   "source": [
    "Es una librería de Python que nos permite hacer peticiones http.\n",
    "\n",
    "\n",
    "[Requests](https://realpython.com/python-requests/#getting-started-with-requests)"
   ]
  },
  {
   "cell_type": "code",
   "execution_count": 1,
   "metadata": {},
   "outputs": [],
   "source": [
    "#Importando requests\n",
    "import requests"
   ]
  },
  {
   "cell_type": "markdown",
   "metadata": {},
   "source": [
    "### GET"
   ]
  },
  {
   "cell_type": "markdown",
   "metadata": {},
   "source": [
    "Con el método GET nosotros obtenemos algún recurso del servidor."
   ]
  },
  {
   "cell_type": "code",
   "execution_count": 2,
   "metadata": {},
   "outputs": [
    {
     "name": "stdout",
     "output_type": "stream",
     "text": [
      "Status code: 200\n",
      "Encoding: ISO-8859-1\n",
      "Content-Type: text/html; charset=ISO-8859-1\n"
     ]
    }
   ],
   "source": [
    "url = 'https://www.google.com'\n",
    "res = requests.get(url)\n",
    "print('Status code:', res.status_code)\n",
    "if res.status_code == 200:\n",
    "    print('Encoding:', res.encoding)\n",
    "    print('Content-Type:', res.headers['content-type'])\n",
    "    content = res.content\n",
    "    with open('./google.html', 'wb') as file:\n",
    "        file.write(content)"
   ]
  },
  {
   "cell_type": "markdown",
   "metadata": {},
   "source": [
    "### Query parameters y obtener JSON"
   ]
  },
  {
   "cell_type": "code",
   "execution_count": 19,
   "metadata": {},
   "outputs": [
    {
     "name": "stdout",
     "output_type": "stream",
     "text": [
      "https://httpbin.org/get?name=Alvaro&age=24\n",
      "----------\n",
      "b'{\\n  \"args\": {\\n    \"age\": \"24\", \\n    \"name\": \"Alvaro\"\\n  }, \\n  \"headers\": {\\n    \"Accept\": \"*/*\", \\n    \"Accept-Encoding\": \"gzip, deflate\", \\n    \"Host\": \"httpbin.org\", \\n    \"User-Agent\": \"python-requests/2.28.1\", \\n    \"X-Amzn-Trace-Id\": \"Root=1-63325bfe-2091507a527a6f06383d590c\"\\n  }, \\n  \"origin\": \"189.188.86.227\", \\n  \"url\": \"https://httpbin.org/get?name=Alvaro&age=24\"\\n}\\n'\n",
      "----------\n",
      "utf-8\n",
      "{\n",
      "  \"args\": {\n",
      "    \"age\": \"24\", \n",
      "    \"name\": \"Alvaro\"\n",
      "  }, \n",
      "  \"headers\": {\n",
      "    \"Accept\": \"*/*\", \n",
      "    \"Accept-Encoding\": \"gzip, deflate\", \n",
      "    \"Host\": \"httpbin.org\", \n",
      "    \"User-Agent\": \"python-requests/2.28.1\", \n",
      "    \"X-Amzn-Trace-Id\": \"Root=1-63325bfe-2091507a527a6f06383d590c\"\n",
      "  }, \n",
      "  \"origin\": \"189.188.86.227\", \n",
      "  \"url\": \"https://httpbin.org/get?name=Alvaro&age=24\"\n",
      "}\n",
      "\n",
      "----------\n",
      "httpbin.org\n",
      "application/json\n"
     ]
    }
   ],
   "source": [
    "url = 'https://httpbin.org/get'\n",
    "args = {'name': 'Alvaro', 'age': '24'} # query parameter\n",
    "res = requests.get(url, params=args)\n",
    "if res.status_code == 200:\n",
    "    print(res.url)\n",
    "    print('-' * 10)\n",
    "    print(res.content) # body en bytes\n",
    "    print('-' * 10)\n",
    "    print(res.encoding) # encoding\n",
    "    print(res.text) # body en string\n",
    "    print('-' * 10)\n",
    "    json_res = res.json() # body en dict\n",
    "    print(json_res['headers']['Host'])\n",
    "    print(res.headers['content-type']) # headers"
   ]
  },
  {
   "cell_type": "code",
   "execution_count": 11,
   "metadata": {},
   "outputs": [
    {
     "name": "stdout",
     "output_type": "stream",
     "text": [
      "189.188.86.227\n",
      "httpbin.org\n"
     ]
    }
   ],
   "source": [
    "#Otra forma de obtener un JSON\n",
    "import json\n",
    "\n",
    "url = 'https://httpbin.org/get'\n",
    "args = {'name': 'Alvaro', 'age': '24'}\n",
    "res = requests.get(url, params=args)\n",
    "if res.status_code == 200:\n",
    "    res_json = json.loads(res.text) # alternativa\n",
    "    origin = res_json['origin']\n",
    "    print(origin)\n",
    "    print(res_json['headers']['Host'])"
   ]
  },
  {
   "cell_type": "markdown",
   "metadata": {},
   "source": [
    "### POST"
   ]
  },
  {
   "cell_type": "markdown",
   "metadata": {},
   "source": [
    "Con el método POST nosotros creamos algún recurso en el servidor.\n",
    "Para ello vamos a necesitar enviar parámetros: \n",
    "- Con el método GET colocamos los parametros dentro de la url (query parameters).\n",
    "- Con el método POST los enviaremos dentro del atributo *data*. "
   ]
  },
  {
   "cell_type": "code",
   "execution_count": 14,
   "metadata": {},
   "outputs": [
    {
     "name": "stdout",
     "output_type": "stream",
     "text": [
      "{\n",
      "  \"args\": {}, \n",
      "  \"data\": \"{\\\"name\\\": \\\"Zoro\\\", \\\"nickname\\\": \\\"Cazador de piratas\\\"}\", \n",
      "  \"files\": {}, \n",
      "  \"form\": {}, \n",
      "  \"headers\": {\n",
      "    \"Accept\": \"*/*\", \n",
      "    \"Accept-Encoding\": \"gzip, deflate\", \n",
      "    \"Content-Length\": \"50\", \n",
      "    \"Content-Type\": \"application/json\", \n",
      "    \"Host\": \"httpbin.org\", \n",
      "    \"User-Agent\": \"python-requests/2.28.1\", \n",
      "    \"X-Amzn-Trace-Id\": \"Root=1-63325572-2cdb34b6350b0eff3dab7d1d\"\n",
      "  }, \n",
      "  \"json\": {\n",
      "    \"name\": \"Zoro\", \n",
      "    \"nickname\": \"Cazador de piratas\"\n",
      "  }, \n",
      "  \"origin\": \"189.188.86.227\", \n",
      "  \"url\": \"https://httpbin.org/post\"\n",
      "}\n",
      "\n"
     ]
    }
   ],
   "source": [
    "# método POST\n",
    "url = 'https://httpbin.org/post'\n",
    "payload = {'name': 'Zoro', 'nickname': 'Cazador de piratas'}\n",
    "res = requests.post(url, json=payload) # atributo json\n",
    "if res.status_code == 200:\n",
    "    print(res.text)"
   ]
  },
  {
   "cell_type": "markdown",
   "metadata": {},
   "source": [
    "Siempre que enviemos el diccionario *payload* en el argumento *json*, lo va a serializar (convertirlo en JSON)."
   ]
  },
  {
   "cell_type": "code",
   "execution_count": 15,
   "metadata": {},
   "outputs": [
    {
     "name": "stdout",
     "output_type": "stream",
     "text": [
      "{\n",
      "  \"args\": {}, \n",
      "  \"data\": \"\", \n",
      "  \"files\": {}, \n",
      "  \"form\": {\n",
      "    \"name\": \"Zoro\", \n",
      "    \"nickname\": \"Cazador de piratas\"\n",
      "  }, \n",
      "  \"headers\": {\n",
      "    \"Accept\": \"*/*\", \n",
      "    \"Accept-Encoding\": \"gzip, deflate\", \n",
      "    \"Content-Length\": \"37\", \n",
      "    \"Content-Type\": \"application/x-www-form-urlencoded\", \n",
      "    \"Host\": \"httpbin.org\", \n",
      "    \"User-Agent\": \"python-requests/2.28.1\", \n",
      "    \"X-Amzn-Trace-Id\": \"Root=1-6332585e-70043a33678063fc12e791ae\"\n",
      "  }, \n",
      "  \"json\": null, \n",
      "  \"origin\": \"189.188.86.227\", \n",
      "  \"url\": \"https://httpbin.org/post\"\n",
      "}\n",
      "\n"
     ]
    }
   ],
   "source": [
    "# método POST\n",
    "url = 'https://httpbin.org/post'\n",
    "payload = {'name': 'Zoro', 'nickname': 'Cazador de piratas'}\n",
    "res = requests.post(url, data=payload) # atributo data\n",
    "if res.status_code == 200:\n",
    "    print(res.text)"
   ]
  },
  {
   "cell_type": "markdown",
   "metadata": {},
   "source": [
    "Si usamos el atributo *data*, todo lo que enviemos estará dentro del atributo *form* y si queremos serializarlo, habría que hacerlo explicitamente "
   ]
  },
  {
   "cell_type": "code",
   "execution_count": 18,
   "metadata": {},
   "outputs": [
    {
     "name": "stdout",
     "output_type": "stream",
     "text": [
      "{\n",
      "  \"args\": {}, \n",
      "  \"data\": \"{\\\"name\\\": \\\"Zoro\\\", \\\"nickname\\\": \\\"Cazador de piratas\\\"}\", \n",
      "  \"files\": {}, \n",
      "  \"form\": {}, \n",
      "  \"headers\": {\n",
      "    \"Accept\": \"*/*\", \n",
      "    \"Accept-Encoding\": \"gzip, deflate\", \n",
      "    \"Content-Length\": \"50\", \n",
      "    \"Host\": \"httpbin.org\", \n",
      "    \"User-Agent\": \"python-requests/2.28.1\", \n",
      "    \"X-Amzn-Trace-Id\": \"Root=1-63325a1b-0795ea9c251356230b1bc20d\"\n",
      "  }, \n",
      "  \"json\": {\n",
      "    \"name\": \"Zoro\", \n",
      "    \"nickname\": \"Cazador de piratas\"\n",
      "  }, \n",
      "  \"origin\": \"189.188.86.227\", \n",
      "  \"url\": \"https://httpbin.org/post\"\n",
      "}\n",
      "\n"
     ]
    }
   ],
   "source": [
    "import json\n",
    "# método POST\n",
    "url = 'https://httpbin.org/post'\n",
    "payload = {'name': 'Zoro', 'nickname': 'Cazador de piratas'}\n",
    "res = requests.post(url, data=json.dumps(payload)) # atributo data\n",
    "if res.status_code == 200:\n",
    "    print(res.text)"
   ]
  },
  {
   "cell_type": "markdown",
   "metadata": {},
   "source": [
    "### Headers"
   ]
  },
  {
   "cell_type": "markdown",
   "metadata": {},
   "source": [
    "Los encabezados contienen metadata y son enviados tanto por el cliente como por el servidor. Estos permiten tener una comunicación correcta. "
   ]
  },
  {
   "cell_type": "code",
   "execution_count": 24,
   "metadata": {},
   "outputs": [
    {
     "name": "stdout",
     "output_type": "stream",
     "text": [
      "{\n",
      "  \"args\": {}, \n",
      "  \"data\": \"{\\\"name\\\": \\\"Luffy\\\", \\\"nickname\\\": \\\"Mugiwara\\\"}\", \n",
      "  \"files\": {}, \n",
      "  \"form\": {}, \n",
      "  \"headers\": {\n",
      "    \"Accept\": \"*/*\", \n",
      "    \"Accept-Encoding\": \"gzip, deflate\", \n",
      "    \"Access-Token\": \"1234\", \n",
      "    \"Content-Length\": \"41\", \n",
      "    \"Content-Type\": \"application/json\", \n",
      "    \"Host\": \"httpbin.org\", \n",
      "    \"User-Agent\": \"python-requests/2.28.1\", \n",
      "    \"X-Amzn-Trace-Id\": \"Root=1-633260da-70f02ba15b5094221cf391b1\"\n",
      "  }, \n",
      "  \"json\": {\n",
      "    \"name\": \"Luffy\", \n",
      "    \"nickname\": \"Mugiwara\"\n",
      "  }, \n",
      "  \"origin\": \"189.188.86.227\", \n",
      "  \"url\": \"http://httpbin.org/post\"\n",
      "}\n",
      "\n",
      "{'Date': 'Tue, 27 Sep 2022 02:32:58 GMT', 'Content-Type': 'application/json', 'Content-Length': '569', 'Connection': 'keep-alive', 'Server': 'gunicorn/19.9.0', 'Access-Control-Allow-Origin': '*', 'Access-Control-Allow-Credentials': 'true'}\n",
      "----------\n",
      "gunicorn/19.9.0\n"
     ]
    }
   ],
   "source": [
    "url = 'http://httpbin.org/post'\n",
    "payload = {'name': 'Luffy', 'nickname': 'Mugiwara'}\n",
    "headers = {\n",
    "    'Content-Type': 'application/json',\n",
    "    'access-token': '1234'\n",
    "} # enviamos datos en formato JSON\n",
    "res = requests.post(url, json=payload, headers=headers)\n",
    "\n",
    "if res.status_code == 200:\n",
    "    print(res.text)\n",
    "    # leer headers\n",
    "    headers_res = res.headers # retorna un dict\n",
    "    print(headers_res)\n",
    "    print('-' * 10)\n",
    "    print(headers_res['server'])\n"
   ]
  },
  {
   "cell_type": "markdown",
   "metadata": {},
   "source": [
    "### PUT y DELETE"
   ]
  },
  {
   "cell_type": "markdown",
   "metadata": {},
   "source": [
    "- Con el método PUT podemos actualizar un recurso del servidor.\n",
    "- Con el método DELETE podemos eliminar un recurso del servidor."
   ]
  },
  {
   "cell_type": "code",
   "execution_count": 25,
   "metadata": {},
   "outputs": [
    {
     "name": "stdout",
     "output_type": "stream",
     "text": [
      "{\n",
      "  \"args\": {}, \n",
      "  \"data\": \"{\\\"name\\\": \\\"Sanji\\\", \\\"nickname\\\": \\\"Kurohashi\\\"}\", \n",
      "  \"files\": {}, \n",
      "  \"form\": {}, \n",
      "  \"headers\": {\n",
      "    \"Accept\": \"*/*\", \n",
      "    \"Accept-Encoding\": \"gzip, deflate\", \n",
      "    \"Access-Token\": \"1234\", \n",
      "    \"Content-Length\": \"42\", \n",
      "    \"Content-Type\": \"application/json\", \n",
      "    \"Host\": \"httpbin.org\", \n",
      "    \"User-Agent\": \"python-requests/2.28.1\", \n",
      "    \"X-Amzn-Trace-Id\": \"Root=1-63326309-7e10bf8604a6eaa162c8788e\"\n",
      "  }, \n",
      "  \"json\": {\n",
      "    \"name\": \"Sanji\", \n",
      "    \"nickname\": \"Kurohashi\"\n",
      "  }, \n",
      "  \"origin\": \"189.188.86.227\", \n",
      "  \"url\": \"http://httpbin.org/put\"\n",
      "}\n",
      "\n"
     ]
    }
   ],
   "source": [
    "# PUT\n",
    "url = 'http://httpbin.org/put'\n",
    "payload = {'name': 'Sanji', 'nickname': 'Kurohashi'}\n",
    "headers = {\n",
    "    'Content-Type': 'application/json',\n",
    "    'access-token': '1234'\n",
    "} # enviamos datos en formato JSON\n",
    "res = requests.put(url, json=payload, headers=headers)\n",
    "\n",
    "if res.status_code == 200:\n",
    "    print(res.text)"
   ]
  },
  {
   "cell_type": "code",
   "execution_count": 27,
   "metadata": {},
   "outputs": [
    {
     "name": "stdout",
     "output_type": "stream",
     "text": [
      "{\n",
      "  \"args\": {}, \n",
      "  \"data\": \"{\\\"name\\\": \\\"Sanji\\\", \\\"nickname\\\": \\\"Kurohashi\\\"}\", \n",
      "  \"files\": {}, \n",
      "  \"form\": {}, \n",
      "  \"headers\": {\n",
      "    \"Accept\": \"*/*\", \n",
      "    \"Accept-Encoding\": \"gzip, deflate\", \n",
      "    \"Access-Token\": \"1234\", \n",
      "    \"Content-Length\": \"42\", \n",
      "    \"Content-Type\": \"application/json\", \n",
      "    \"Host\": \"httpbin.org\", \n",
      "    \"User-Agent\": \"python-requests/2.28.1\", \n",
      "    \"X-Amzn-Trace-Id\": \"Root=1-633263c9-7507797d79d9e77c2aa4956b\"\n",
      "  }, \n",
      "  \"json\": {\n",
      "    \"name\": \"Sanji\", \n",
      "    \"nickname\": \"Kurohashi\"\n",
      "  }, \n",
      "  \"origin\": \"189.188.86.227\", \n",
      "  \"url\": \"http://httpbin.org/delete\"\n",
      "}\n",
      "\n"
     ]
    }
   ],
   "source": [
    "# DELETE\n",
    "url = 'http://httpbin.org/delete'\n",
    "payload = {'name': 'Sanji', 'nickname': 'Kurohashi'}\n",
    "headers = {\n",
    "    'Content-Type': 'application/json',\n",
    "    'access-token': '1234'\n",
    "} # enviamos datos en formato JSON\n",
    "res = requests.delete(url, json=payload, headers=headers)\n",
    "\n",
    "if res.status_code == 200:\n",
    "    print(res.text)"
   ]
  },
  {
   "cell_type": "markdown",
   "metadata": {},
   "source": [
    "### Chunks"
   ]
  },
  {
   "cell_type": "markdown",
   "metadata": {},
   "source": [
    "Trabajaremos con archivos muy pesados, descargando un imagen y almacenandolá dentro de nuestra PC.\n",
    "\n",
    "Cuando realizamos una petición a un servidor **requests** realiza la petición por el método indicado, obtiene el contenido y cierra la conexión.\n",
    "\n",
    "Sin embargo, el contenido puede ser un archivo muy pesado, si colocamos el parametro ```stream=True``` realiza la petición dejando la conexión abierta, para posteriormente descargar el contenido."
   ]
  },
  {
   "cell_type": "code",
   "execution_count": 29,
   "metadata": {},
   "outputs": [],
   "source": [
    "url = 'https://i0.wp.com/codigoespagueti.com/wp-content/uploads/2022/05/Ya-puedes-comerte-la-fruta-Gomu-Gomu-con-este-genial-pastel-de-One-Piece.jpg?resize=1280%2C720&quality=80&ssl=1'\n",
    "res = requests.get(url, stream=True) # realiza la petición sin descargar el contenido\n",
    "# descargando la imagen\n",
    "with open('imagen.jpg', 'wb') as file:\n",
    "    for chunk in res.iter_content(): # descarga el contenido poco a poco\n",
    "        file.write(chunk)\n",
    "res.close() # cerramos la conexión"
   ]
  },
  {
   "cell_type": "markdown",
   "metadata": {},
   "source": [
    "```iter_content()``` toma todo el contenido del servidor (la imagen) y la va a descargar poco a poco, gracias a que la conexión se encuentra abierta. Este método es de suma importancia para archivos muy pesados (PDFs, videos, imagenes, etc). "
   ]
  },
  {
   "cell_type": "markdown",
   "metadata": {},
   "source": [
    "## Poke API"
   ]
  },
  {
   "cell_type": "markdown",
   "metadata": {},
   "source": [
    "Esta API, nos ayuda a obtener información acerca de pokemons, es gratuita y solo nos permite hacer peticiones con el método GET. "
   ]
  },
  {
   "cell_type": "code",
   "execution_count": 31,
   "metadata": {},
   "outputs": [
    {
     "name": "stdout",
     "output_type": "stream",
     "text": [
      "bulbasaur\n",
      "ivysaur\n",
      "venusaur\n",
      "charmander\n",
      "charmeleon\n",
      "charizard\n",
      "squirtle\n",
      "wartortle\n",
      "blastoise\n",
      "caterpie\n",
      "metapod\n",
      "butterfree\n",
      "weedle\n",
      "kakuna\n",
      "beedrill\n",
      "pidgey\n",
      "pidgeotto\n",
      "pidgeot\n",
      "rattata\n",
      "raticate\n"
     ]
    }
   ],
   "source": [
    "url = 'http://pokeapi.co/api/v2/pokemon-form' # lista de pokemons\n",
    "res = requests.get(url)\n",
    "if res.status_code == 200:\n",
    "    json_res = res.json() # retorna un dict\n",
    "    results = json_res.get('results', []) # retorna [] si no encuentra el value de 'results'\n",
    "    if results:\n",
    "        for pokemon in results:\n",
    "            print(pokemon['name'])"
   ]
  },
  {
   "cell_type": "code",
   "execution_count": 33,
   "metadata": {},
   "outputs": [
    {
     "name": "stdout",
     "output_type": "stream",
     "text": [
      "bulbasaur\n",
      "ivysaur\n",
      "venusaur\n",
      "charmander\n",
      "charmeleon\n",
      "charizard\n",
      "squirtle\n",
      "wartortle\n",
      "blastoise\n",
      "caterpie\n",
      "metapod\n",
      "butterfree\n",
      "weedle\n",
      "kakuna\n",
      "beedrill\n",
      "pidgey\n",
      "pidgeotto\n",
      "pidgeot\n",
      "rattata\n",
      "raticate\n",
      "spearow\n",
      "fearow\n",
      "ekans\n",
      "arbok\n",
      "pikachu\n",
      "raichu\n",
      "sandshrew\n",
      "sandslash\n",
      "nidoran-f\n",
      "nidorina\n",
      "nidoqueen\n",
      "nidoran-m\n",
      "nidorino\n",
      "nidoking\n",
      "clefairy\n",
      "clefable\n",
      "vulpix\n",
      "ninetales\n",
      "jigglypuff\n",
      "wigglytuff\n"
     ]
    }
   ],
   "source": [
    "# función recursiva que lista todos los pokemons\n",
    "\n",
    "def get_pokemons(url='http://pokeapi.co/api/v2/pokemon-form', offset=0):\n",
    "    args = {'offset': offset} if offset else {}\n",
    "    res = requests.get(url, params=args)\n",
    "    if res.status_code == 200:\n",
    "        json_res = res.json()\n",
    "        results = json_res.get('results', [])\n",
    "        if results:\n",
    "            for pokemon in results:\n",
    "                name = pokemon['name']\n",
    "                print(name)\n",
    "        \n",
    "        next = input('¿Continuar listando? [Y/N]').lower()\n",
    "        if next == 'y':\n",
    "           get_pokemons(offset=offset+20) \n",
    "\n",
    "\n",
    "if __name__ == '__main__':\n",
    "    get_pokemons()"
   ]
  },
  {
   "cell_type": "markdown",
   "metadata": {},
   "source": [
    "## OAuth"
   ]
  },
  {
   "cell_type": "markdown",
   "metadata": {},
   "source": [
    "Usaremos la API de [GitHub](http://pokeapi.co/api/v2/pokemon-form'), para ello accedemos al link y le damos a **registrar aplicación**, que nos llevara a un formulario que nos permitirá generar nuestra primera aplicación OAuth en los servidores de GitHub."
   ]
  },
  {
   "cell_type": "markdown",
   "metadata": {},
   "source": [
    "OAuth es un protocolo que nos permite autenticación en diferentes sitios Web o aplicaciones moviles.\n",
    "\n",
    "Para utilizar una aplicación que requiera autenticación, podemos realizar cualquiera de los dos pasos:\n",
    "1. Registrarte de forma manual (lo que implica llenar un formulario a mano).\n",
    "2. Autenticarte utilizando una red social como Facebook, Twitter, etc.  \n",
    "\n",
    "Si nos autenticamos por la segunda opción, se utilizaría el protocolo OAuth.\n",
    "Algunas de sus ventajas son:\n",
    "- Ahorra tiempo en el registro.\n",
    "- Tu password no se almacena dentro del sitio web o la aplicación debido a que se utiliza un servicio de un tercero.\n",
    " \n",
    "Para crear la aplicación, tenemos que llenar todos los campos del [registro](https://github.com/settings/applications/new)."
   ]
  },
  {
   "cell_type": "code",
   "execution_count": null,
   "metadata": {},
   "outputs": [],
   "source": []
  }
 ],
 "metadata": {
  "kernelspec": {
   "display_name": "Python 3.9.12 ('dataScience')",
   "language": "python",
   "name": "python3"
  },
  "language_info": {
   "codemirror_mode": {
    "name": "ipython",
    "version": 3
   },
   "file_extension": ".py",
   "mimetype": "text/x-python",
   "name": "python",
   "nbconvert_exporter": "python",
   "pygments_lexer": "ipython3",
   "version": "3.9.12"
  },
  "orig_nbformat": 4,
  "vscode": {
   "interpreter": {
    "hash": "172c3fd17db4ff20d3574cf211e94ed8f11c92bb0caaa242e4accece9ac973bb"
   }
  }
 },
 "nbformat": 4,
 "nbformat_minor": 2
}
